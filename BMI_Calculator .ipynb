{
 "cells": [
  {
   "cell_type": "code",
   "execution_count": null,
   "id": "7e064a17",
   "metadata": {},
   "outputs": [],
   "source": [
    "#BMI CALCUALATOR BY AMANDA IGWE"
   ]
  },
  {
   "cell_type": "code",
   "execution_count": null,
   "id": "64cf5c98",
   "metadata": {},
   "outputs": [],
   "source": [
    "#BMI = (weight in pounds x 703) / (height in inches x height inches)"
   ]
  },
  {
   "cell_type": "code",
   "execution_count": 26,
   "id": "3267bd84",
   "metadata": {},
   "outputs": [
    {
     "name": "stdout",
     "output_type": "stream",
     "text": [
      "Enter your name: Amanda\n",
      "Enter your weight in pounds: 170\n",
      "Enter your height in pounds: 69\n",
      "25.101869355177485\n",
      "Hi Amanda, You are overweight! Please get some exercise. \n"
     ]
    }
   ],
   "source": [
    "name = input(\"Enter your name: \")\n",
    "\n",
    "weight = int(input (\"Enter your weight in pounds: \"))\n",
    "\n",
    "height = int(input (\"Enter your height in pounds: \"))\n",
    "\n",
    "BMI = (weight * 703) / (height * height)\n",
    "\n",
    "print (BMI)\n",
    "if BMI>0:\n",
    "    if(BMI<18.5):\n",
    "     print(\"Hi\" + \" \" + name + \",\" + \" \" +  \"You are underweight. You can do better. \")\n",
    "    elif (BMI<=24.9):\n",
    "     print(\"Hi\" + \" \" + name + \",\" + \" \" + \"You are normal weight. Bravo! \")\n",
    "    elif (BMI<29.9):\n",
    "     print(\"Hi\" + \" \" + name + \",\" + \" \" + \"You are overweight! Please get some exercise. \")\n",
    "    elif (BMI<=34.9):\n",
    "     print(\"Hi\" + \" \" + name + \",\" + \" \" + \"You are obese. Avoid junk foods and get some movements. \")\n",
    "    elif(BMI<=39.9):\n",
    "     print(\"Hi\" + \" \" + name + \",\" + \" \" + \"You are morbidly obese. You need to see a doctor immediately!! \")\n",
    "    else:\n",
    "        print(\"That is incorrect. Enter valid inputs\")\n"
   ]
  },
  {
   "cell_type": "code",
   "execution_count": null,
   "id": "71449ef7",
   "metadata": {},
   "outputs": [],
   "source": []
  },
  {
   "cell_type": "code",
   "execution_count": null,
   "id": "67341c65",
   "metadata": {},
   "outputs": [],
   "source": []
  },
  {
   "cell_type": "code",
   "execution_count": null,
   "id": "482693a3",
   "metadata": {},
   "outputs": [],
   "source": []
  },
  {
   "cell_type": "code",
   "execution_count": null,
   "id": "82a83fb5",
   "metadata": {},
   "outputs": [],
   "source": []
  },
  {
   "cell_type": "code",
   "execution_count": null,
   "id": "5bf48e92",
   "metadata": {},
   "outputs": [],
   "source": []
  },
  {
   "cell_type": "code",
   "execution_count": null,
   "id": "8a967901",
   "metadata": {},
   "outputs": [],
   "source": []
  }
 ],
 "metadata": {
  "kernelspec": {
   "display_name": "Python 3 (ipykernel)",
   "language": "python",
   "name": "python3"
  },
  "language_info": {
   "codemirror_mode": {
    "name": "ipython",
    "version": 3
   },
   "file_extension": ".py",
   "mimetype": "text/x-python",
   "name": "python",
   "nbconvert_exporter": "python",
   "pygments_lexer": "ipython3",
   "version": "3.9.12"
  }
 },
 "nbformat": 4,
 "nbformat_minor": 5
}
